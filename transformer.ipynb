{
 "cells": [
  {
   "cell_type": "code",
   "execution_count": 1,
   "metadata": {},
   "outputs": [],
   "source": [
    "from enum import IntEnum\n",
    "import inspect\n",
    "import logging\n",
    "import math\n",
    "import numpy as np\n",
    "\n",
    "import torch\n",
    "from torch import nn"
   ]
  },
  {
   "cell_type": "code",
   "execution_count": 2,
   "metadata": {},
   "outputs": [],
   "source": [
    "logger = logging.getLogger(\"tensor_shapes\")\n",
    "handler = logging.StreamHandler()\n",
    "formatter = logging.Formatter('%(message)s')\n",
    "handler.setFormatter(formatter)\n",
    "logger.addHandler(handler)\n",
    "logger.setLevel(1)"
   ]
  },
  {
   "cell_type": "code",
   "execution_count": 3,
   "metadata": {},
   "outputs": [],
   "source": [
    "def getclass():\n",
    "    stack = inspect.stack()\n",
    "    return stack[3][0].f_locals[\"self\"].__class__\n",
    "\n",
    "def log_size(tsr: torch.Tensor, name:str):\n",
    "    cls = getclass()\n",
    "    logger.log(level=cls.level, msg=f\"[{cls.__name__}] {name} size={tsr.shape}\")"
   ]
  },
  {
   "cell_type": "code",
   "execution_count": 4,
   "metadata": {},
   "outputs": [],
   "source": [
    "class TensorLoggingLevels(IntEnum):\n",
    "    attention = 1\n",
    "    attention_head = 2\n",
    "    multihead_attention_block = 3\n",
    "    enc_dec_block = 4\n",
    "    enc_dec = 5"
   ]
  },
  {
   "cell_type": "code",
   "execution_count": 5,
   "metadata": {},
   "outputs": [],
   "source": [
    "class Dim(IntEnum):\n",
    "    batch = 0\n",
    "    seq = 1\n",
    "    feature = 2"
   ]
  },
  {
   "cell_type": "code",
   "execution_count": 6,
   "metadata": {},
   "outputs": [],
   "source": [
    "class ScaledDotProductAttention(nn.Module):\n",
    "    level = TensorLoggingLevels.attention\n",
    "    \n",
    "    def __init__(self, dropout=0.1):\n",
    "        super().__init__()\n",
    "        self.dropout = nn.Dropout(dropout)\n",
    "        \n",
    "    def forward(self, q, k, v, mask=None):\n",
    "        d_k = k.size(-1)\n",
    "        assert q.size(-1) == d_k\n",
    "        \n",
    "        attn = torch.bmm(q, k.transpose(Dim.seq, Dim.feature))\n",
    "        attn = attn / math.sqrt(d_k)\n",
    "        atten = torch.exp(attn)\n",
    "        log_size(attn, \"attention weight\")\n",
    "        \n",
    "        if mask is not None:\n",
    "            attn = attn.masked_fill(mask, 0)\n",
    "        attn /= attn.sum(dim=-1, keepdim=True)\n",
    "        attn = self.dropout(attn)\n",
    "        output = torch.bmm(attn, v)\n",
    "        log_size(output, \"attention output size\")\n",
    "        return output"
   ]
  },
  {
   "cell_type": "code",
   "execution_count": 7,
   "metadata": {},
   "outputs": [],
   "source": [
    "attn = ScaledDotProductAttention()"
   ]
  },
  {
   "cell_type": "code",
   "execution_count": 8,
   "metadata": {},
   "outputs": [],
   "source": [
    "q = torch.rand(5, 10, 20)\n",
    "k = torch.rand(5, 10, 20)\n",
    "v = torch.rand(5, 10, 20)"
   ]
  },
  {
   "cell_type": "code",
   "execution_count": 10,
   "metadata": {},
   "outputs": [],
   "source": [
    "# attn(q, k, v)"
   ]
  },
  {
   "cell_type": "code",
   "execution_count": 11,
   "metadata": {},
   "outputs": [],
   "source": [
    "class AttentionHead(nn.Module):\n",
    "    level = TensorLoggingLevels.attention_head\n",
    "    \n",
    "    def __init__(self, d_model, d_feature, dropout=0.1):\n",
    "        super().__init__()\n",
    "        \n",
    "        self.attn = ScaledDotProductAttention(dropout)\n",
    "        self.query_tfm = nn.Linear(d_model, d_feature)\n",
    "        self.key_tfm = nn.Linear(d_model, d_feature)\n",
    "        self.value_tfm = nn.Linear(d_model, d_feature)\n",
    "        \n",
    "    def forward(self, queries, keys, values, mask=None):\n",
    "        Q = self.query_tfm(queries)\n",
    "        K = self.key_tfm(keys)\n",
    "        V = self.value_tfm(values)\n",
    "        log_size(Q, \"queries, keys, vals\")\n",
    "        x = self.attn(Q, K, V)\n",
    "        return x"
   ]
  },
  {
   "cell_type": "code",
   "execution_count": 12,
   "metadata": {},
   "outputs": [],
   "source": [
    "# attn_head = AttentionHead(20, 20)\n",
    "# attn_head(q, k, v)"
   ]
  },
  {
   "cell_type": "code",
   "execution_count": 13,
   "metadata": {},
   "outputs": [],
   "source": [
    "logger.setLevel(TensorLoggingLevels.attention_head)"
   ]
  },
  {
   "cell_type": "code",
   "execution_count": 14,
   "metadata": {},
   "outputs": [],
   "source": [
    "class MultiHeadAttention(nn.Module):\n",
    "    level = TensorLoggingLevels.multihead_attention_block\n",
    "    \n",
    "    def __init__(self, d_model, d_feature, n_heads, dropout=0.1):\n",
    "        super().__init__()\n",
    "        self.d_model = d_model\n",
    "        self.d_feature = d_feature\n",
    "        self.n_heads = n_heads\n",
    "        assert d_model == d_feature * n_heads\n",
    "        \n",
    "        self.attn_heads = nn.ModuleList([\n",
    "            AttentionHead(d_model, d_feature, dropout) for _ in range(n_heads)\n",
    "        ])\n",
    "        self.projection = nn.Linear(d_feature * n_heads, d_model)\n",
    "        \n",
    "    def forward(self, queries, keys, values, mask=None):\n",
    "        log_size(queries, \"Input queries\")\n",
    "        x = [\n",
    "            attn(queries, keys, values, mask=mask) for i, attn in enumerate(self.attn_heads)\n",
    "        ]\n",
    "        log_size(x[0], \"output of single head\")\n",
    "        \n",
    "        x = torch.cat(x, dim=Dim.feature)\n",
    "        log_size(x, \"concatenated output\")\n",
    "        x = self.projection(x)\n",
    "        log_size(x, \"projected output\")\n",
    "        return x"
   ]
  },
  {
   "cell_type": "code",
   "execution_count": 15,
   "metadata": {},
   "outputs": [],
   "source": [
    "# heads = MultiHeadAttention(20*8, 20, 8)\n",
    "# heads(q.repeat(1,1,8), k.repeat(1,1,8), v.repeat(1,1,8))"
   ]
  },
  {
   "cell_type": "code",
   "execution_count": 16,
   "metadata": {},
   "outputs": [],
   "source": [
    "logger.setLevel(TensorLoggingLevels.multihead_attention_block)"
   ]
  },
  {
   "cell_type": "code",
   "execution_count": 17,
   "metadata": {},
   "outputs": [],
   "source": [
    "class LayerNorm(nn.Module):\n",
    "    def __init__(self, d_model, eps=1e-8):\n",
    "        super(LayerNorm, self).__init__()\n",
    "        self.gamma = nn.Parameter(torch.ones(d_model))\n",
    "        self.beta = nn.Parameter(torch.zeros(d_model))\n",
    "        self.eps = eps\n",
    "\n",
    "    def forward(self, x):\n",
    "        mean = x.mean(-1, keepdim=True)\n",
    "        std = x.std(-1, keepdim=True)\n",
    "        return self.gamma * (x - mean) / (std + self.eps) + self.beta"
   ]
  },
  {
   "cell_type": "code",
   "execution_count": 18,
   "metadata": {},
   "outputs": [],
   "source": [
    "class EncoderBlock(nn.Module):\n",
    "    level = TensorLoggingLevels.enc_dec_block\n",
    "    \n",
    "    def __init__(self, d_model=512, d_feature=64, d_ff=2048, n_heads=8, dropout=0.1):\n",
    "        super().__init__()\n",
    "        \n",
    "        self.attn_head = MultiHeadAttention(d_model, d_feature, n_heads, dropout)\n",
    "        self.layer_norm1 = LayerNorm(d_model)\n",
    "        self.dropout = nn.Dropout(dropout)\n",
    "        self.position_wise_feed_forward = nn.Sequential(\n",
    "            nn.Linear(d_model, d_ff),\n",
    "            nn.ReLU(),\n",
    "            nn.Linear(d_ff, d_model),\n",
    "        )\n",
    "        self.layer_norm2 = LayerNorm(d_model)\n",
    "    \n",
    "    def forward(self, x, mask=None):\n",
    "        log_size(x, \"Encoder block input\")\n",
    "        att = self.attn_head(x, x, x, mask=mask)\n",
    "        log_size(x, \"Attention output\")\n",
    "        x += self.dropout(self.layer_norm1(att))\n",
    "        pos = self.position_wise_feed_forward(x)\n",
    "        log_size(x, \"Feedforward output\")\n",
    "        x += self.dropout(self.layer_norm2(pos))\n",
    "        log_size(x, \"Encoder size output\")\n",
    "        return x"
   ]
  },
  {
   "cell_type": "code",
   "execution_count": 19,
   "metadata": {},
   "outputs": [],
   "source": [
    "enc = EncoderBlock()"
   ]
  },
  {
   "cell_type": "code",
   "execution_count": 20,
   "metadata": {},
   "outputs": [],
   "source": [
    "# enc(torch.rand(5, 10,  512))"
   ]
  },
  {
   "cell_type": "code",
   "execution_count": 21,
   "metadata": {},
   "outputs": [],
   "source": [
    "class TransformerEncoder(nn.Module):\n",
    "    level = TensorLoggingLevels.enc_dec\n",
    "    \n",
    "    def __init__(self, n_blocks=6, d_model=512, n_heads=8, d_ff=2048, dropout=0.1):\n",
    "        super().__init__()\n",
    "        \n",
    "        self.encoders = nn.ModuleList([\n",
    "            EncoderBlock(\n",
    "                d_model=d_model, \n",
    "                d_feature=d_model//n_heads, \n",
    "                d_ff=d_ff, \n",
    "                dropout=dropout\n",
    "            ) for _ in range(n_blocks)\n",
    "        ])\n",
    "        \n",
    "    def forward(self, x:torch.FloatTensor, mask=None):\n",
    "        for encoder in self.encoders:\n",
    "            x = encoder(x)\n",
    "        return x"
   ]
  },
  {
   "cell_type": "code",
   "execution_count": 22,
   "metadata": {},
   "outputs": [],
   "source": [
    "class DecoderBlock(nn.Module):\n",
    "    level = TensorLoggingLevels.enc_dec_block\n",
    "    \n",
    "    def __init__(self, d_model=512, d_feature=64, d_ff=2048, n_heads=8, dropout=0.1):\n",
    "        super().__init__()\n",
    "        \n",
    "        self.masked_attn_head = MultiHeadAttention(d_model, d_feature, n_heads, dropout)\n",
    "        self.attn_head = MultiHeadAttention(d_model, d_feature, n_heads, dropout)\n",
    "        self.position_wise_feed_forward = nn.Sequential(\n",
    "            nn.Linear(d_model, d_ff),\n",
    "            nn.ReLU(),\n",
    "            nn.Linear(d_ff, d_model)\n",
    "        )\n",
    "        self.layer_norm1 = LayerNorm(d_model)\n",
    "        self.layer_norm2 = LayerNorm(d_model)\n",
    "        self.layer_norm3 = LayerNorm(d_model)\n",
    "        self.dropout = nn.Dropout(dropout)\n",
    "        \n",
    "    def forward(self, x, enc_out, src_mask=None, tgt_mask=None):\n",
    "        att = self.masked_attn_head(x, x, x, mask=src_mask)\n",
    "        x += self.dropout(self.layer_norm1(att))\n",
    "        att = self.attn_head(queries=x, keys=enc_out, values=enc_out, mask=tgt_mask)\n",
    "        x += self.dropout(self.layer_norm2(att))\n",
    "        pos = self.position_wise_feed_forward(x)\n",
    "        x += self.dropout(self.layer_norm3(pos))\n",
    "        return x"
   ]
  },
  {
   "cell_type": "code",
   "execution_count": 23,
   "metadata": {},
   "outputs": [],
   "source": [
    "dec = DecoderBlock()"
   ]
  },
  {
   "cell_type": "code",
   "execution_count": 24,
   "metadata": {},
   "outputs": [],
   "source": [
    "# dec(torch.rand(5, 10, 512), enc(torch.rand(5, 10, 512)))"
   ]
  },
  {
   "cell_type": "code",
   "execution_count": 25,
   "metadata": {},
   "outputs": [],
   "source": [
    "class TransformerDecoder(nn.Module):\n",
    "    level = TensorLoggingLevels.enc_dec\n",
    "    \n",
    "    def __init__(self, n_blocks=6, d_model=512, d_feature=64, d_ff=2048, n_heads=8, \n",
    "                 dropout=0.1):\n",
    "        super().__init__()\n",
    "        \n",
    "        self.position_embedding = PositionalEmbedding(d_model)\n",
    "        self.decoders = nn.ModuleList([\n",
    "            DecoderBlock(d_model=d_model, d_feature=d_model//n_heads, d_ff=d_ff, \n",
    "                         dropout=dropout) for _ in range(n_blocks)\n",
    "        ])\n",
    "    \n",
    "    def forward(self, x:torch.FloatTensor, enc_out:torch.FloatTensor, src_mask=None, \n",
    "                tgt_mask=None):\n",
    "        for decoder in self.decoders:\n",
    "            x = decoder(x, enc_out, src_mask=src_mask, tgt_mask=tgt_mask)\n",
    "        return x"
   ]
  },
  {
   "cell_type": "code",
   "execution_count": 26,
   "metadata": {},
   "outputs": [],
   "source": [
    "class PositionalEmbedding(nn.Module):\n",
    "    level = 1\n",
    "    \n",
    "    def __init__(self, d_model, max_len=512):\n",
    "        super().__init__()\n",
    "        \n",
    "        pe = torch.zeros(max_len, d_model)\n",
    "        position = torch.arange(0, max_len).unsqueeze(1).float()\n",
    "        div_term = torch.exp(torch.arange(0,d_model,2).float() * -(math.log(10000.0)/d_model))\n",
    "        pe[:, 0::2] = torch.sin(position * div_term)\n",
    "        pe[:, 1::2] = torch.cos(position * div_term)\n",
    "        pe = pe.unsqueeze(0)\n",
    "        self.weight = nn.Parameter(pe, requires_grad=False)\n",
    "        \n",
    "    def forward(self, x):\n",
    "        return self.weight[:, :x.size(1), :]"
   ]
  },
  {
   "cell_type": "code",
   "execution_count": 27,
   "metadata": {},
   "outputs": [],
   "source": [
    "class WordPositionEmbedding(nn.Module):\n",
    "    level = 1\n",
    "    \n",
    "    def __init__(self, vocab_size, d_model=512):\n",
    "        super().__init__()\n",
    "        self.word_embedding = nn.Embedding(vocab_size, d_model)\n",
    "        self.position_embedding = PositionalEmbedding(d_model)\n",
    "        \n",
    "    def forward(self, x:torch.LongTensor, mask=None)->torch.FloatTensor:\n",
    "        return self.word_embedding(x) + self.position_embedding(x)"
   ]
  },
  {
   "cell_type": "code",
   "execution_count": 28,
   "metadata": {},
   "outputs": [],
   "source": [
    "emb = WordPositionEmbedding(1000)\n",
    "encoder = TransformerEncoder()"
   ]
  },
  {
   "cell_type": "code",
   "execution_count": 29,
   "metadata": {},
   "outputs": [],
   "source": [
    "# encoder(emb(torch.randint(1000, (5, 30))))"
   ]
  },
  {
   "cell_type": "code",
   "execution_count": 30,
   "metadata": {},
   "outputs": [],
   "source": [
    "logger.setLevel(TensorLoggingLevels.enc_dec_block)"
   ]
  },
  {
   "cell_type": "code",
   "execution_count": 31,
   "metadata": {},
   "outputs": [],
   "source": [
    "emb = WordPositionEmbedding(1000)\n",
    "encoder = TransformerEncoder()\n",
    "decoder = TransformerDecoder()"
   ]
  },
  {
   "cell_type": "code",
   "execution_count": 32,
   "metadata": {},
   "outputs": [
    {
     "name": "stderr",
     "output_type": "stream",
     "text": [
      "[EncoderBlock] Encoder block input size=torch.Size([5, 30, 512])\n",
      "[EncoderBlock] Attention output size=torch.Size([5, 30, 512])\n",
      "[EncoderBlock] Feedforward output size=torch.Size([5, 30, 512])\n",
      "[EncoderBlock] Encoder size output size=torch.Size([5, 30, 512])\n",
      "[EncoderBlock] Encoder block input size=torch.Size([5, 30, 512])\n",
      "[EncoderBlock] Attention output size=torch.Size([5, 30, 512])\n",
      "[EncoderBlock] Feedforward output size=torch.Size([5, 30, 512])\n",
      "[EncoderBlock] Encoder size output size=torch.Size([5, 30, 512])\n",
      "[EncoderBlock] Encoder block input size=torch.Size([5, 30, 512])\n",
      "[EncoderBlock] Attention output size=torch.Size([5, 30, 512])\n",
      "[EncoderBlock] Feedforward output size=torch.Size([5, 30, 512])\n",
      "[EncoderBlock] Encoder size output size=torch.Size([5, 30, 512])\n",
      "[EncoderBlock] Encoder block input size=torch.Size([5, 30, 512])\n",
      "[EncoderBlock] Attention output size=torch.Size([5, 30, 512])\n",
      "[EncoderBlock] Feedforward output size=torch.Size([5, 30, 512])\n",
      "[EncoderBlock] Encoder size output size=torch.Size([5, 30, 512])\n",
      "[EncoderBlock] Encoder block input size=torch.Size([5, 30, 512])\n",
      "[EncoderBlock] Attention output size=torch.Size([5, 30, 512])\n",
      "[EncoderBlock] Feedforward output size=torch.Size([5, 30, 512])\n",
      "[EncoderBlock] Encoder size output size=torch.Size([5, 30, 512])\n",
      "[EncoderBlock] Encoder block input size=torch.Size([5, 30, 512])\n",
      "[EncoderBlock] Attention output size=torch.Size([5, 30, 512])\n",
      "[EncoderBlock] Feedforward output size=torch.Size([5, 30, 512])\n",
      "[EncoderBlock] Encoder size output size=torch.Size([5, 30, 512])\n"
     ]
    },
    {
     "data": {
      "text/plain": [
       "tensor([[[-6.2177e-01,  8.3054e-01, -2.5055e+00,  ...,  3.2256e+00,\n",
       "           2.7803e+00, -5.6453e+00],\n",
       "         [-4.0257e+00,  5.4899e+00,  5.0048e+00,  ...,  7.3244e-01,\n",
       "          -2.4788e+00, -1.7646e+00],\n",
       "         [-1.7118e+00,  4.9984e-01, -4.1395e+00,  ...,  2.2858e+00,\n",
       "           8.4680e+00,  1.1552e+00],\n",
       "         ...,\n",
       "         [ 5.1021e-01, -4.0912e+00, -2.0309e-01,  ..., -3.9896e-01,\n",
       "          -2.9902e+00, -1.3581e+00],\n",
       "         [ 1.7264e+00,  1.4768e+00,  2.5084e+00,  ..., -2.6467e+00,\n",
       "           3.6436e+00,  9.3666e-01],\n",
       "         [-2.4069e+00,  2.6056e+00, -2.2024e+00,  ...,  4.3321e+00,\n",
       "          -4.9218e+00, -3.9276e+00]],\n",
       "\n",
       "        [[ 3.1604e-01, -2.0718e+00, -1.1691e+00,  ..., -8.4731e-01,\n",
       "          -3.0178e+00,  1.4080e+00],\n",
       "         [-6.2286e+00,  9.3539e-01, -2.9332e+00,  ..., -4.2893e+00,\n",
       "           6.5248e-01,  2.0102e+00],\n",
       "         [ 1.9881e+00,  1.3487e+00, -5.2017e+00,  ..., -6.4079e+00,\n",
       "          -4.2760e+00,  2.8536e+00],\n",
       "         ...,\n",
       "         [-1.8641e+00,  4.0846e+00, -4.8563e+00,  ...,  6.5066e+00,\n",
       "          -5.8440e+00, -6.2480e+00],\n",
       "         [-8.3435e-02, -3.1253e+00,  2.3880e-01,  ...,  2.2762e+00,\n",
       "           4.2613e+00, -3.6263e+00],\n",
       "         [-4.3937e+00,  1.2433e+00,  1.3056e+00,  ..., -4.6850e+00,\n",
       "          -2.8997e-01,  4.2866e+00]],\n",
       "\n",
       "        [[ 1.4596e+00,  1.7067e+00, -8.6903e+00,  ...,  4.6390e+00,\n",
       "          -4.8649e+00,  5.8458e+00],\n",
       "         [ 3.5659e+00,  1.8558e+00,  4.3832e+00,  ...,  2.9520e+00,\n",
       "           6.3589e+00,  4.3785e-01],\n",
       "         [-2.3232e+00, -3.2898e+00, -1.1819e+00,  ..., -2.1675e+00,\n",
       "           6.5254e+00, -1.4339e+00],\n",
       "         ...,\n",
       "         [-1.3775e+00,  1.9441e+00, -5.0041e+00,  ...,  8.7061e+00,\n",
       "           1.7851e+00,  3.2666e+00],\n",
       "         [-1.3239e+00,  8.0440e-01,  4.3255e+00,  ...,  2.3099e+00,\n",
       "          -1.9974e+00,  2.0122e+00],\n",
       "         [-4.5203e+00, -7.6838e+00, -1.0033e+01,  ...,  3.3702e+00,\n",
       "           7.4309e+00,  4.4257e-01]],\n",
       "\n",
       "        [[-2.3056e+00,  1.4698e+00, -6.9365e+00,  ..., -3.9275e+00,\n",
       "           4.9109e+00, -2.3803e+00],\n",
       "         [ 3.9815e-01, -2.6021e+00,  2.0227e+00,  ...,  8.7348e-01,\n",
       "          -4.1191e+00, -2.0478e+00],\n",
       "         [-4.3102e+00,  2.4194e+00,  1.1136e+01,  ...,  5.6497e+00,\n",
       "          -6.1943e-01,  4.1954e-01],\n",
       "         ...,\n",
       "         [ 6.0296e-01,  2.2395e+00,  1.1884e+00,  ...,  6.9676e+00,\n",
       "          -2.3600e-01, -7.1763e+00],\n",
       "         [-3.1927e+00,  2.4646e+00,  5.4581e+00,  ...,  6.7618e+00,\n",
       "          -6.4630e+00, -2.5606e+00],\n",
       "         [-8.7035e-01, -7.8135e-02,  2.7697e+00,  ..., -3.2870e+00,\n",
       "          -6.0250e+00, -2.7989e+00]],\n",
       "\n",
       "        [[-2.5172e+00,  2.2743e+00,  1.8556e+00,  ..., -3.2406e+00,\n",
       "           3.4124e-04,  1.5503e+00],\n",
       "         [ 1.1626e+00, -3.3621e+00, -4.6701e-01,  ...,  7.2614e+00,\n",
       "          -8.4913e-01,  3.5394e+00],\n",
       "         [ 1.3750e+00,  1.1604e+01,  6.2980e+00,  ..., -3.7608e+00,\n",
       "           1.7728e+00,  7.4221e+00],\n",
       "         ...,\n",
       "         [ 4.7282e+00, -3.0007e+00, -2.5941e+00,  ...,  5.9523e+00,\n",
       "          -2.6493e+00, -4.6085e-01],\n",
       "         [-5.2599e+00, -2.6931e+00, -5.7670e-01,  ..., -2.4162e+00,\n",
       "          -4.7096e+00, -5.8265e+00],\n",
       "         [-7.1701e+00,  4.8446e+00, -2.6036e+00,  ..., -7.8514e-01,\n",
       "           2.9800e+00,  4.0433e+00]]], grad_fn=<AddBackward0>)"
      ]
     },
     "execution_count": 32,
     "metadata": {},
     "output_type": "execute_result"
    }
   ],
   "source": [
    "src_ids = torch.randint(1000, (5, 30))\n",
    "tgt_ids = torch.randint(1000, (5, 30))\n",
    "x = encoder(emb(src_ids))\n",
    "decoder(emb(tgt_ids), x)"
   ]
  },
  {
   "cell_type": "code",
   "execution_count": null,
   "metadata": {},
   "outputs": [],
   "source": []
  },
  {
   "cell_type": "code",
   "execution_count": null,
   "metadata": {},
   "outputs": [],
   "source": []
  }
 ],
 "metadata": {
  "kernelspec": {
   "display_name": "py37",
   "language": "python",
   "name": "py37"
  },
  "language_info": {
   "codemirror_mode": {
    "name": "ipython",
    "version": 3
   },
   "file_extension": ".py",
   "mimetype": "text/x-python",
   "name": "python",
   "nbconvert_exporter": "python",
   "pygments_lexer": "ipython3",
   "version": "3.7.3"
  }
 },
 "nbformat": 4,
 "nbformat_minor": 2
}
